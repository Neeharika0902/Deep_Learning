{
 "cells": [
  {
   "cell_type": "markdown",
   "metadata": {},
   "source": [
    "# Memoization #\n",
    "\n",
    "Memoization is a technique for improving the performance of recursive algorithms. \n",
    "\n",
    "It involves rewriting the recursive algorithm so that as answers to problems are found, they are stored in an array. Recursive calls can look up results in the array rather than having to recalculate them.\n",
    "\n",
    "we will store the result of frequently used functions rather than calling then again and again."
   ]
  },
  {
   "cell_type": "markdown",
   "metadata": {},
   "source": [
    "# Basic Fibonacci Example #"
   ]
  },
  {
   "cell_type": "code",
   "execution_count": 3,
   "metadata": {},
   "outputs": [],
   "source": [
    "# without Memoization\n",
    "import time\n",
    "\n",
    "def fibb(n):\n",
    "    if n == 1 or n == 0:\n",
    "        return 1\n",
    "    else:\n",
    "        return fibb(n-1) + fibb(n-2)"
   ]
  },
  {
   "cell_type": "code",
   "execution_count": 6,
   "metadata": {},
   "outputs": [
    {
     "name": "stdout",
     "output_type": "stream",
     "text": [
      "Time Required for regular Fibonacci Function is :  11.41927719116211 Seconds\n"
     ]
    }
   ],
   "source": [
    "start = time.time()\n",
    "\n",
    "fibb(40)\n",
    "\n",
    "print(\"Time Required for regular Fibonacci Function is : \", time.time() - start, 'Seconds')"
   ]
  },
  {
   "cell_type": "markdown",
   "metadata": {},
   "source": [
    "#  Applying Memoization #\n",
    "\n",
    "we will Create on dictionary, in that we will store results of the functions which are used frequently.\n",
    "\n",
    "As you can see, by applying that we can improve execution time."
   ]
  },
  {
   "cell_type": "code",
   "execution_count": 12,
   "metadata": {},
   "outputs": [],
   "source": [
    "# After appling memoization\n",
    "\n",
    "import time\n",
    "\n",
    "def fibb2(n,d):\n",
    "    if n in d:\n",
    "        return d[n]\n",
    "    else:\n",
    "        d[n] = fibb(n-1,d) + fibb(n-2,d)\n",
    "        return d[n]"
   ]
  },
  {
   "cell_type": "code",
   "execution_count": 15,
   "metadata": {},
   "outputs": [
    {
     "name": "stdout",
     "output_type": "stream",
     "text": [
      "Time Required for regular Fibonacci Function is :  0.000102996826171875 Seconds\n"
     ]
    }
   ],
   "source": [
    "start = time.time()\n",
    "\n",
    "# if n == 1 or n == 0 then return 1\n",
    "d = {0:1,1:1}\n",
    "fibb2(40,d)\n",
    "\n",
    "print(\"Time Required for regular Fibonacci Function is : \", time.time() - start, 'Seconds')"
   ]
  }
 ],
 "metadata": {
  "kernelspec": {
   "display_name": "Python 3",
   "language": "python",
   "name": "python3"
  },
  "language_info": {
   "codemirror_mode": {
    "name": "ipython",
    "version": 3
   },
   "file_extension": ".py",
   "mimetype": "text/x-python",
   "name": "python",
   "nbconvert_exporter": "python",
   "pygments_lexer": "ipython3",
   "version": "3.12.2"
  }
 },
 "nbformat": 4,
 "nbformat_minor": 2
}
