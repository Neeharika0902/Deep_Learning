{
 "cells": [
  {
   "cell_type": "markdown",
   "metadata": {},
   "source": [
    "# Definition #\n",
    "Perceptron is a single-layer neural network linear or a Machine Learning algorithm used for supervised learning of various binary classifiers. \n",
    "\n",
    "A perceptron is a mathematical model of a biological neuron and a basic component of neural networks in machine learning and deep learning.\n",
    "\n",
    "A Perceptron is an Artificial Neuron."
   ]
  },
  {
   "cell_type": "code",
   "execution_count": null,
   "metadata": {},
   "outputs": [],
   "source": []
  }
 ],
 "metadata": {
  "language_info": {
   "name": "python"
  }
 },
 "nbformat": 4,
 "nbformat_minor": 2
}
